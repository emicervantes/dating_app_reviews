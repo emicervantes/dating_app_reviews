{
 "cells": [
  {
   "cell_type": "code",
   "execution_count": 92,
   "id": "6c243963",
   "metadata": {},
   "outputs": [],
   "source": [
    "import pandas as pd\n",
    "import numpy as np\n",
    "import matplotlib.pyplot as plt\n",
    "from textblob import TextBlob, Word, Blobber\n",
    "from textblob.classifiers import NaiveBayesClassifier\n",
    "from textblob.taggers import NLTKTagger\n",
    "from sklearn.feature_extraction.text import CountVectorizer"
   ]
  },
  {
   "cell_type": "code",
   "execution_count": 2,
   "id": "27beefdd",
   "metadata": {},
   "outputs": [],
   "source": [
    "df_bum = pd.read_csv(\"bumble_google_play_reviews.csv\")\n",
    "df_tin = pd.read_csv(\"tinder_google_play_reviews.csv\")\n",
    "df_hin = pd.read_csv(\"hinge_google_play_reviews.csv\")"
   ]
  },
  {
   "cell_type": "code",
   "execution_count": 3,
   "id": "4103bfe8",
   "metadata": {},
   "outputs": [
    {
     "data": {
      "text/html": [
       "<div>\n",
       "<style scoped>\n",
       "    .dataframe tbody tr th:only-of-type {\n",
       "        vertical-align: middle;\n",
       "    }\n",
       "\n",
       "    .dataframe tbody tr th {\n",
       "        vertical-align: top;\n",
       "    }\n",
       "\n",
       "    .dataframe thead th {\n",
       "        text-align: right;\n",
       "    }\n",
       "</style>\n",
       "<table border=\"1\" class=\"dataframe\">\n",
       "  <thead>\n",
       "    <tr style=\"text-align: right;\">\n",
       "      <th></th>\n",
       "      <th>reviewId</th>\n",
       "      <th>userName</th>\n",
       "      <th>userImage</th>\n",
       "      <th>content</th>\n",
       "      <th>score</th>\n",
       "      <th>thumbsUpCount</th>\n",
       "      <th>reviewCreatedVersion</th>\n",
       "      <th>at</th>\n",
       "      <th>replyContent</th>\n",
       "      <th>repliedAt</th>\n",
       "    </tr>\n",
       "  </thead>\n",
       "  <tbody>\n",
       "    <tr>\n",
       "      <th>0</th>\n",
       "      <td>bf09317b-a399-4e92-b896-6a93c9406eda</td>\n",
       "      <td>Terrence Harris-Hughes</td>\n",
       "      <td>https://play-lh.googleusercontent.com/a/AEdFTp...</td>\n",
       "      <td>Why games? Can't we just do it. If you just go...</td>\n",
       "      <td>1</td>\n",
       "      <td>16</td>\n",
       "      <td>NaN</td>\n",
       "      <td>2022-12-11 01:55:12</td>\n",
       "      <td>NaN</td>\n",
       "      <td>NaN</td>\n",
       "    </tr>\n",
       "    <tr>\n",
       "      <th>1</th>\n",
       "      <td>97493fcd-70d3-47de-b636-edd95a084b2a</td>\n",
       "      <td>Aksheta Chougaonkar</td>\n",
       "      <td>https://play-lh.googleusercontent.com/a/AEdFTp...</td>\n",
       "      <td>There is bug in security code. I cannot just s...</td>\n",
       "      <td>1</td>\n",
       "      <td>0</td>\n",
       "      <td>5.298.0</td>\n",
       "      <td>2022-12-11 01:48:17</td>\n",
       "      <td>NaN</td>\n",
       "      <td>NaN</td>\n",
       "    </tr>\n",
       "    <tr>\n",
       "      <th>2</th>\n",
       "      <td>8edc37a4-45da-4a28-9d92-fff18f14f8f9</td>\n",
       "      <td>leila nasimi</td>\n",
       "      <td>https://play-lh.googleusercontent.com/a-/AD5-W...</td>\n",
       "      <td>The app is good and user-friendly, but there i...</td>\n",
       "      <td>3</td>\n",
       "      <td>0</td>\n",
       "      <td>5.298.0</td>\n",
       "      <td>2022-12-11 01:15:03</td>\n",
       "      <td>NaN</td>\n",
       "      <td>NaN</td>\n",
       "    </tr>\n",
       "    <tr>\n",
       "      <th>3</th>\n",
       "      <td>30fe19dd-264c-47bc-b301-5b085d1d5e1c</td>\n",
       "      <td>A Google user</td>\n",
       "      <td>https://play-lh.googleusercontent.com/EGemoI2N...</td>\n",
       "      <td>-2 stars. Screw these moneygrabbing bastards</td>\n",
       "      <td>1</td>\n",
       "      <td>2</td>\n",
       "      <td>5.284.0</td>\n",
       "      <td>2022-12-11 00:51:53</td>\n",
       "      <td>If there's anything we can do to help make you...</td>\n",
       "      <td>2022-09-04 13:37:26</td>\n",
       "    </tr>\n",
       "    <tr>\n",
       "      <th>4</th>\n",
       "      <td>a5aaed6a-2dd5-41f3-9cc5-7e64d398235e</td>\n",
       "      <td>Joey B</td>\n",
       "      <td>https://play-lh.googleusercontent.com/a/AEdFTp...</td>\n",
       "      <td>Very small stupid things that make it annoying...</td>\n",
       "      <td>2</td>\n",
       "      <td>0</td>\n",
       "      <td>5.298.0</td>\n",
       "      <td>2022-12-11 00:21:16</td>\n",
       "      <td>NaN</td>\n",
       "      <td>NaN</td>\n",
       "    </tr>\n",
       "  </tbody>\n",
       "</table>\n",
       "</div>"
      ],
      "text/plain": [
       "                               reviewId                userName  \\\n",
       "0  bf09317b-a399-4e92-b896-6a93c9406eda  Terrence Harris-Hughes   \n",
       "1  97493fcd-70d3-47de-b636-edd95a084b2a     Aksheta Chougaonkar   \n",
       "2  8edc37a4-45da-4a28-9d92-fff18f14f8f9            leila nasimi   \n",
       "3  30fe19dd-264c-47bc-b301-5b085d1d5e1c           A Google user   \n",
       "4  a5aaed6a-2dd5-41f3-9cc5-7e64d398235e                  Joey B   \n",
       "\n",
       "                                           userImage  \\\n",
       "0  https://play-lh.googleusercontent.com/a/AEdFTp...   \n",
       "1  https://play-lh.googleusercontent.com/a/AEdFTp...   \n",
       "2  https://play-lh.googleusercontent.com/a-/AD5-W...   \n",
       "3  https://play-lh.googleusercontent.com/EGemoI2N...   \n",
       "4  https://play-lh.googleusercontent.com/a/AEdFTp...   \n",
       "\n",
       "                                             content  score  thumbsUpCount  \\\n",
       "0  Why games? Can't we just do it. If you just go...      1             16   \n",
       "1  There is bug in security code. I cannot just s...      1              0   \n",
       "2  The app is good and user-friendly, but there i...      3              0   \n",
       "3       -2 stars. Screw these moneygrabbing bastards      1              2   \n",
       "4  Very small stupid things that make it annoying...      2              0   \n",
       "\n",
       "  reviewCreatedVersion                   at  \\\n",
       "0                  NaN  2022-12-11 01:55:12   \n",
       "1              5.298.0  2022-12-11 01:48:17   \n",
       "2              5.298.0  2022-12-11 01:15:03   \n",
       "3              5.284.0  2022-12-11 00:51:53   \n",
       "4              5.298.0  2022-12-11 00:21:16   \n",
       "\n",
       "                                        replyContent            repliedAt  \n",
       "0                                                NaN                  NaN  \n",
       "1                                                NaN                  NaN  \n",
       "2                                                NaN                  NaN  \n",
       "3  If there's anything we can do to help make you...  2022-09-04 13:37:26  \n",
       "4                                                NaN                  NaN  "
      ]
     },
     "execution_count": 3,
     "metadata": {},
     "output_type": "execute_result"
    }
   ],
   "source": [
    "df_bum.head()"
   ]
  },
  {
   "cell_type": "code",
   "execution_count": 4,
   "id": "694283fd",
   "metadata": {},
   "outputs": [
    {
     "data": {
      "text/html": [
       "<div>\n",
       "<style scoped>\n",
       "    .dataframe tbody tr th:only-of-type {\n",
       "        vertical-align: middle;\n",
       "    }\n",
       "\n",
       "    .dataframe tbody tr th {\n",
       "        vertical-align: top;\n",
       "    }\n",
       "\n",
       "    .dataframe thead th {\n",
       "        text-align: right;\n",
       "    }\n",
       "</style>\n",
       "<table border=\"1\" class=\"dataframe\">\n",
       "  <thead>\n",
       "    <tr style=\"text-align: right;\">\n",
       "      <th></th>\n",
       "      <th>reviewId</th>\n",
       "      <th>userName</th>\n",
       "      <th>userImage</th>\n",
       "      <th>content</th>\n",
       "      <th>score</th>\n",
       "      <th>thumbsUpCount</th>\n",
       "      <th>reviewCreatedVersion</th>\n",
       "      <th>at</th>\n",
       "      <th>replyContent</th>\n",
       "      <th>repliedAt</th>\n",
       "    </tr>\n",
       "  </thead>\n",
       "  <tbody>\n",
       "    <tr>\n",
       "      <th>0</th>\n",
       "      <td>e6d3a576-c0b5-456d-a161-a03a21635390</td>\n",
       "      <td>Kranan Vlogs</td>\n",
       "      <td>https://play-lh.googleusercontent.com/a-/AD5-W...</td>\n",
       "      <td>soon.</td>\n",
       "      <td>5</td>\n",
       "      <td>0</td>\n",
       "      <td>13.23.0</td>\n",
       "      <td>2022-12-15 21:04:58</td>\n",
       "      <td>NaN</td>\n",
       "      <td>NaN</td>\n",
       "    </tr>\n",
       "    <tr>\n",
       "      <th>1</th>\n",
       "      <td>acb008f0-be43-4363-83c4-35581ed81c22</td>\n",
       "      <td>Aayush Gautam</td>\n",
       "      <td>https://play-lh.googleusercontent.com/a-/AD5-W...</td>\n",
       "      <td>A fraud app. Even if you go with gold or premi...</td>\n",
       "      <td>1</td>\n",
       "      <td>0</td>\n",
       "      <td>13.23.0</td>\n",
       "      <td>2022-12-15 20:52:36</td>\n",
       "      <td>NaN</td>\n",
       "      <td>NaN</td>\n",
       "    </tr>\n",
       "    <tr>\n",
       "      <th>2</th>\n",
       "      <td>2bd80134-54b6-4363-9c70-2fa8023b49e3</td>\n",
       "      <td>Stinkin Dinkins</td>\n",
       "      <td>https://play-lh.googleusercontent.com/a-/AD5-W...</td>\n",
       "      <td>honestly I'm a thicker guy. so I know I wouldn...</td>\n",
       "      <td>1</td>\n",
       "      <td>0</td>\n",
       "      <td>13.23.0</td>\n",
       "      <td>2022-12-15 20:47:40</td>\n",
       "      <td>NaN</td>\n",
       "      <td>NaN</td>\n",
       "    </tr>\n",
       "    <tr>\n",
       "      <th>3</th>\n",
       "      <td>f52d8a14-e901-472e-8fe6-40f2c7f4b931</td>\n",
       "      <td>king catnip</td>\n",
       "      <td>https://play-lh.googleusercontent.com/a-/AD5-W...</td>\n",
       "      <td>I've swiped left on the same people more than ...</td>\n",
       "      <td>1</td>\n",
       "      <td>208</td>\n",
       "      <td>13.10.1</td>\n",
       "      <td>2022-12-15 20:45:36</td>\n",
       "      <td>NaN</td>\n",
       "      <td>NaN</td>\n",
       "    </tr>\n",
       "    <tr>\n",
       "      <th>4</th>\n",
       "      <td>e62d8632-a665-4f39-bbcf-fa4c7bc36402</td>\n",
       "      <td>Nicholas Scull</td>\n",
       "      <td>https://play-lh.googleusercontent.com/a-/AD5-W...</td>\n",
       "      <td>Got banned for being genderfluid! All I did wa...</td>\n",
       "      <td>1</td>\n",
       "      <td>0</td>\n",
       "      <td>NaN</td>\n",
       "      <td>2022-12-15 20:39:54</td>\n",
       "      <td>NaN</td>\n",
       "      <td>NaN</td>\n",
       "    </tr>\n",
       "  </tbody>\n",
       "</table>\n",
       "</div>"
      ],
      "text/plain": [
       "                               reviewId         userName  \\\n",
       "0  e6d3a576-c0b5-456d-a161-a03a21635390     Kranan Vlogs   \n",
       "1  acb008f0-be43-4363-83c4-35581ed81c22    Aayush Gautam   \n",
       "2  2bd80134-54b6-4363-9c70-2fa8023b49e3  Stinkin Dinkins   \n",
       "3  f52d8a14-e901-472e-8fe6-40f2c7f4b931      king catnip   \n",
       "4  e62d8632-a665-4f39-bbcf-fa4c7bc36402   Nicholas Scull   \n",
       "\n",
       "                                           userImage  \\\n",
       "0  https://play-lh.googleusercontent.com/a-/AD5-W...   \n",
       "1  https://play-lh.googleusercontent.com/a-/AD5-W...   \n",
       "2  https://play-lh.googleusercontent.com/a-/AD5-W...   \n",
       "3  https://play-lh.googleusercontent.com/a-/AD5-W...   \n",
       "4  https://play-lh.googleusercontent.com/a-/AD5-W...   \n",
       "\n",
       "                                             content  score  thumbsUpCount  \\\n",
       "0                                              soon.      5              0   \n",
       "1  A fraud app. Even if you go with gold or premi...      1              0   \n",
       "2  honestly I'm a thicker guy. so I know I wouldn...      1              0   \n",
       "3  I've swiped left on the same people more than ...      1            208   \n",
       "4  Got banned for being genderfluid! All I did wa...      1              0   \n",
       "\n",
       "  reviewCreatedVersion                   at replyContent repliedAt  \n",
       "0              13.23.0  2022-12-15 21:04:58          NaN       NaN  \n",
       "1              13.23.0  2022-12-15 20:52:36          NaN       NaN  \n",
       "2              13.23.0  2022-12-15 20:47:40          NaN       NaN  \n",
       "3              13.10.1  2022-12-15 20:45:36          NaN       NaN  \n",
       "4                  NaN  2022-12-15 20:39:54          NaN       NaN  "
      ]
     },
     "execution_count": 4,
     "metadata": {},
     "output_type": "execute_result"
    }
   ],
   "source": [
    "df_tin.head()"
   ]
  },
  {
   "cell_type": "code",
   "execution_count": 5,
   "id": "07e1798b",
   "metadata": {},
   "outputs": [
    {
     "data": {
      "text/html": [
       "<div>\n",
       "<style scoped>\n",
       "    .dataframe tbody tr th:only-of-type {\n",
       "        vertical-align: middle;\n",
       "    }\n",
       "\n",
       "    .dataframe tbody tr th {\n",
       "        vertical-align: top;\n",
       "    }\n",
       "\n",
       "    .dataframe thead th {\n",
       "        text-align: right;\n",
       "    }\n",
       "</style>\n",
       "<table border=\"1\" class=\"dataframe\">\n",
       "  <thead>\n",
       "    <tr style=\"text-align: right;\">\n",
       "      <th></th>\n",
       "      <th>reviewId</th>\n",
       "      <th>userName</th>\n",
       "      <th>userImage</th>\n",
       "      <th>content</th>\n",
       "      <th>score</th>\n",
       "      <th>thumbsUpCount</th>\n",
       "      <th>reviewCreatedVersion</th>\n",
       "      <th>at</th>\n",
       "      <th>replyContent</th>\n",
       "      <th>repliedAt</th>\n",
       "    </tr>\n",
       "  </thead>\n",
       "  <tbody>\n",
       "    <tr>\n",
       "      <th>0</th>\n",
       "      <td>1910bbde-e48d-43d6-ac0a-fe516b07ddca</td>\n",
       "      <td>Aaron Osborne</td>\n",
       "      <td>https://play-lh.googleusercontent.com/a-/AD5-W...</td>\n",
       "      <td>This used to be a great app but it has been ru...</td>\n",
       "      <td>1</td>\n",
       "      <td>116</td>\n",
       "      <td>9.11.2</td>\n",
       "      <td>2022-12-10 01:28:46</td>\n",
       "      <td>NaN</td>\n",
       "      <td>NaN</td>\n",
       "    </tr>\n",
       "    <tr>\n",
       "      <th>1</th>\n",
       "      <td>ed8b6d91-6a79-4bc4-8e53-bfa90a4d13dd</td>\n",
       "      <td>Frank Jandl</td>\n",
       "      <td>https://play-lh.googleusercontent.com/a-/AD5-W...</td>\n",
       "      <td>Not that great. Maybe I live in the wrong area...</td>\n",
       "      <td>2</td>\n",
       "      <td>0</td>\n",
       "      <td>9.11.2</td>\n",
       "      <td>2022-12-10 01:28:00</td>\n",
       "      <td>NaN</td>\n",
       "      <td>NaN</td>\n",
       "    </tr>\n",
       "    <tr>\n",
       "      <th>2</th>\n",
       "      <td>d58dd19e-c6b7-469e-be8f-25a83d397319</td>\n",
       "      <td>H</td>\n",
       "      <td>https://play-lh.googleusercontent.com/a/AEdFTp...</td>\n",
       "      <td>Used to like the app before a TON of male scam...</td>\n",
       "      <td>1</td>\n",
       "      <td>3</td>\n",
       "      <td>9.9.1</td>\n",
       "      <td>2022-12-10 01:23:20</td>\n",
       "      <td>NaN</td>\n",
       "      <td>NaN</td>\n",
       "    </tr>\n",
       "    <tr>\n",
       "      <th>3</th>\n",
       "      <td>b6769fa8-28b4-4e02-bcc3-fa09ea832134</td>\n",
       "      <td>Omar Sharif</td>\n",
       "      <td>https://play-lh.googleusercontent.com/a-/AD5-W...</td>\n",
       "      <td>The sms pin no longer comes through. i made no...</td>\n",
       "      <td>1</td>\n",
       "      <td>0</td>\n",
       "      <td>8.30.0</td>\n",
       "      <td>2022-12-10 00:55:46</td>\n",
       "      <td>NaN</td>\n",
       "      <td>NaN</td>\n",
       "    </tr>\n",
       "    <tr>\n",
       "      <th>4</th>\n",
       "      <td>ad4fc20a-2add-465d-8d73-fcbf4a0f1aca</td>\n",
       "      <td>Logan Z</td>\n",
       "      <td>https://play-lh.googleusercontent.com/a/AEdFTp...</td>\n",
       "      <td>Have to pay 15$minimum to like any attractive ...</td>\n",
       "      <td>1</td>\n",
       "      <td>0</td>\n",
       "      <td>9.11.2</td>\n",
       "      <td>2022-12-09 23:50:14</td>\n",
       "      <td>NaN</td>\n",
       "      <td>NaN</td>\n",
       "    </tr>\n",
       "  </tbody>\n",
       "</table>\n",
       "</div>"
      ],
      "text/plain": [
       "                               reviewId       userName  \\\n",
       "0  1910bbde-e48d-43d6-ac0a-fe516b07ddca  Aaron Osborne   \n",
       "1  ed8b6d91-6a79-4bc4-8e53-bfa90a4d13dd    Frank Jandl   \n",
       "2  d58dd19e-c6b7-469e-be8f-25a83d397319              H   \n",
       "3  b6769fa8-28b4-4e02-bcc3-fa09ea832134    Omar Sharif   \n",
       "4  ad4fc20a-2add-465d-8d73-fcbf4a0f1aca        Logan Z   \n",
       "\n",
       "                                           userImage  \\\n",
       "0  https://play-lh.googleusercontent.com/a-/AD5-W...   \n",
       "1  https://play-lh.googleusercontent.com/a-/AD5-W...   \n",
       "2  https://play-lh.googleusercontent.com/a/AEdFTp...   \n",
       "3  https://play-lh.googleusercontent.com/a-/AD5-W...   \n",
       "4  https://play-lh.googleusercontent.com/a/AEdFTp...   \n",
       "\n",
       "                                             content  score  thumbsUpCount  \\\n",
       "0  This used to be a great app but it has been ru...      1            116   \n",
       "1  Not that great. Maybe I live in the wrong area...      2              0   \n",
       "2  Used to like the app before a TON of male scam...      1              3   \n",
       "3  The sms pin no longer comes through. i made no...      1              0   \n",
       "4  Have to pay 15$minimum to like any attractive ...      1              0   \n",
       "\n",
       "  reviewCreatedVersion                   at replyContent repliedAt  \n",
       "0               9.11.2  2022-12-10 01:28:46          NaN       NaN  \n",
       "1               9.11.2  2022-12-10 01:28:00          NaN       NaN  \n",
       "2                9.9.1  2022-12-10 01:23:20          NaN       NaN  \n",
       "3               8.30.0  2022-12-10 00:55:46          NaN       NaN  \n",
       "4               9.11.2  2022-12-09 23:50:14          NaN       NaN  "
      ]
     },
     "execution_count": 5,
     "metadata": {},
     "output_type": "execute_result"
    }
   ],
   "source": [
    "df_hin.head()"
   ]
  },
  {
   "cell_type": "code",
   "execution_count": 5,
   "id": "66e73013",
   "metadata": {},
   "outputs": [
    {
     "name": "stdout",
     "output_type": "stream",
     "text": [
      "Bumble Data Features: ['reviewId', 'userName', 'userImage', 'content', 'score', 'thumbsUpCount', 'reviewCreatedVersion', 'at', 'replyContent', 'repliedAt']\n",
      "Hinge Data Features: ['reviewId', 'userName', 'userImage', 'content', 'score', 'thumbsUpCount', 'reviewCreatedVersion', 'at', 'replyContent', 'repliedAt']\n",
      "Tinder Data Features: ['reviewId', 'userName', 'userImage', 'content', 'score', 'thumbsUpCount', 'reviewCreatedVersion', 'at', 'replyContent', 'repliedAt']\n"
     ]
    }
   ],
   "source": [
    "print(\"Bumble Data Features: \" + str(list(df_bum.columns)))\n",
    "print(\"Hinge Data Features: \" + str(list(df_hin.columns)))\n",
    "print(\"Tinder Data Features: \" + str(list(df_tin.columns)))"
   ]
  },
  {
   "cell_type": "code",
   "execution_count": 7,
   "id": "393fb8c0",
   "metadata": {
    "scrolled": true
   },
   "outputs": [
    {
     "name": "stdout",
     "output_type": "stream",
     "text": [
      "Data types of each column of Bumble DF\n"
     ]
    },
    {
     "data": {
      "text/plain": [
       "reviewId                object\n",
       "userName                object\n",
       "userImage               object\n",
       "content                 object\n",
       "score                    int64\n",
       "thumbsUpCount            int64\n",
       "reviewCreatedVersion    object\n",
       "at                      object\n",
       "replyContent            object\n",
       "repliedAt               object\n",
       "dtype: object"
      ]
     },
     "execution_count": 7,
     "metadata": {},
     "output_type": "execute_result"
    }
   ],
   "source": [
    "print(\"Data types of each column of Bumble DF\")\n",
    "df_bum.dtypes"
   ]
  },
  {
   "cell_type": "code",
   "execution_count": 6,
   "id": "5a764aaf",
   "metadata": {},
   "outputs": [
    {
     "name": "stdout",
     "output_type": "stream",
     "text": [
      "Data types of each column of Hinge DF\n"
     ]
    },
    {
     "data": {
      "text/plain": [
       "reviewId                object\n",
       "userName                object\n",
       "userImage               object\n",
       "content                 object\n",
       "score                    int64\n",
       "thumbsUpCount            int64\n",
       "reviewCreatedVersion    object\n",
       "at                      object\n",
       "replyContent            object\n",
       "repliedAt               object\n",
       "dtype: object"
      ]
     },
     "execution_count": 6,
     "metadata": {},
     "output_type": "execute_result"
    }
   ],
   "source": [
    "print(\"Data types of each column of Hinge DF\")\n",
    "df_hin.dtypes"
   ]
  },
  {
   "cell_type": "code",
   "execution_count": 9,
   "id": "d22e0f72",
   "metadata": {},
   "outputs": [
    {
     "name": "stdout",
     "output_type": "stream",
     "text": [
      "Data types of each column of Tinder DF\n"
     ]
    },
    {
     "data": {
      "text/plain": [
       "reviewId                object\n",
       "userName                object\n",
       "userImage               object\n",
       "content                 object\n",
       "score                    int64\n",
       "thumbsUpCount            int64\n",
       "reviewCreatedVersion    object\n",
       "at                      object\n",
       "replyContent            object\n",
       "repliedAt               object\n",
       "dtype: object"
      ]
     },
     "execution_count": 9,
     "metadata": {},
     "output_type": "execute_result"
    }
   ],
   "source": [
    "print(\"Data types of each column of Tinder DF\")\n",
    "df_tin.dtypes"
   ]
  },
  {
   "cell_type": "code",
   "execution_count": 7,
   "id": "6569f181",
   "metadata": {},
   "outputs": [
    {
     "name": "stdout",
     "output_type": "stream",
     "text": [
      "[1 2 3 5 4]\n",
      "[1 3 2 5 4]\n",
      "[5 1 4 2 3 0]\n"
     ]
    }
   ],
   "source": [
    "print(df_hin['score'].unique())\n",
    "print(df_bum['score'].unique())\n",
    "print(df_tin['score'].unique())"
   ]
  },
  {
   "cell_type": "markdown",
   "id": "d7b5095e",
   "metadata": {},
   "source": [
    "## Dataset Features\n",
    "\n",
    "* `content`(object): User's review (txt)\n",
    "\n",
    "* `score` (int64): Review score ranging from 0 to 5\n",
    "\n",
    "* `thumbsUpCount` (int64): Number of users who found the review response helpful\n",
    "\n",
    "* `reviewCreatedVersion` (object): Version of the app when the review was posted\n",
    "\n",
    "* `at` (objet): Date of review was posted"
   ]
  },
  {
   "cell_type": "code",
   "execution_count": 8,
   "id": "e2ac0cdd",
   "metadata": {},
   "outputs": [],
   "source": [
    "features = [\"content\",\"score\",\"thumbsUpCount\",\"reviewCreatedVersion\",\"at\"]"
   ]
  },
  {
   "cell_type": "code",
   "execution_count": 9,
   "id": "17c6a5a3",
   "metadata": {},
   "outputs": [],
   "source": [
    "df_bum2 = df_bum[features]\n",
    "df_hin2 = df_hin[features]\n",
    "df_tin2 = df_tin[features]\n",
    "\n",
    "df_bum2.insert(0,'app',\"B\")\n",
    "df_hin2.insert(0,'app',\"H\")\n",
    "df_tin2.insert(0,'app',\"T\")"
   ]
  },
  {
   "cell_type": "code",
   "execution_count": 10,
   "id": "e504c6c4",
   "metadata": {},
   "outputs": [],
   "source": [
    "df = pd.concat([df_bum2, df_hin2, df_tin2])\n",
    "df.insert(0,\"id\",df.index+1)"
   ]
  },
  {
   "cell_type": "code",
   "execution_count": 34,
   "id": "1d513c24",
   "metadata": {},
   "outputs": [
    {
     "data": {
      "text/html": [
       "<div>\n",
       "<style scoped>\n",
       "    .dataframe tbody tr th:only-of-type {\n",
       "        vertical-align: middle;\n",
       "    }\n",
       "\n",
       "    .dataframe tbody tr th {\n",
       "        vertical-align: top;\n",
       "    }\n",
       "\n",
       "    .dataframe thead th {\n",
       "        text-align: right;\n",
       "    }\n",
       "</style>\n",
       "<table border=\"1\" class=\"dataframe\">\n",
       "  <thead>\n",
       "    <tr style=\"text-align: right;\">\n",
       "      <th></th>\n",
       "      <th>id</th>\n",
       "      <th>app</th>\n",
       "      <th>content</th>\n",
       "      <th>score</th>\n",
       "      <th>thumbsUpCount</th>\n",
       "      <th>reviewCreatedVersion</th>\n",
       "      <th>at</th>\n",
       "    </tr>\n",
       "  </thead>\n",
       "  <tbody>\n",
       "    <tr>\n",
       "      <th>0</th>\n",
       "      <td>1</td>\n",
       "      <td>B</td>\n",
       "      <td>Why games? Can't we just do it. If you just go...</td>\n",
       "      <td>1</td>\n",
       "      <td>16</td>\n",
       "      <td>NaN</td>\n",
       "      <td>2022-12-11 01:55:12</td>\n",
       "    </tr>\n",
       "    <tr>\n",
       "      <th>1</th>\n",
       "      <td>2</td>\n",
       "      <td>B</td>\n",
       "      <td>There is bug in security code. I cannot just s...</td>\n",
       "      <td>1</td>\n",
       "      <td>0</td>\n",
       "      <td>5.298.0</td>\n",
       "      <td>2022-12-11 01:48:17</td>\n",
       "    </tr>\n",
       "    <tr>\n",
       "      <th>2</th>\n",
       "      <td>3</td>\n",
       "      <td>B</td>\n",
       "      <td>The app is good and user-friendly, but there i...</td>\n",
       "      <td>3</td>\n",
       "      <td>0</td>\n",
       "      <td>5.298.0</td>\n",
       "      <td>2022-12-11 01:15:03</td>\n",
       "    </tr>\n",
       "    <tr>\n",
       "      <th>3</th>\n",
       "      <td>4</td>\n",
       "      <td>B</td>\n",
       "      <td>-2 stars. Screw these moneygrabbing bastards</td>\n",
       "      <td>1</td>\n",
       "      <td>2</td>\n",
       "      <td>5.284.0</td>\n",
       "      <td>2022-12-11 00:51:53</td>\n",
       "    </tr>\n",
       "    <tr>\n",
       "      <th>4</th>\n",
       "      <td>5</td>\n",
       "      <td>B</td>\n",
       "      <td>Very small stupid things that make it annoying...</td>\n",
       "      <td>2</td>\n",
       "      <td>0</td>\n",
       "      <td>5.298.0</td>\n",
       "      <td>2022-12-11 00:21:16</td>\n",
       "    </tr>\n",
       "  </tbody>\n",
       "</table>\n",
       "</div>"
      ],
      "text/plain": [
       "   id app                                            content  score  \\\n",
       "0   1   B  Why games? Can't we just do it. If you just go...      1   \n",
       "1   2   B  There is bug in security code. I cannot just s...      1   \n",
       "2   3   B  The app is good and user-friendly, but there i...      3   \n",
       "3   4   B       -2 stars. Screw these moneygrabbing bastards      1   \n",
       "4   5   B  Very small stupid things that make it annoying...      2   \n",
       "\n",
       "   thumbsUpCount reviewCreatedVersion                   at  \n",
       "0             16                  NaN  2022-12-11 01:55:12  \n",
       "1              0              5.298.0  2022-12-11 01:48:17  \n",
       "2              0              5.298.0  2022-12-11 01:15:03  \n",
       "3              2              5.284.0  2022-12-11 00:51:53  \n",
       "4              0              5.298.0  2022-12-11 00:21:16  "
      ]
     },
     "execution_count": 34,
     "metadata": {},
     "output_type": "execute_result"
    }
   ],
   "source": [
    "# Remove the rows where content is missing\n",
    "df['NA'] = df['content'].isnull()\n",
    "df = df[df['NA'] == False]\n",
    "df.pop(\"NA\")\n",
    "df.head()"
   ]
  },
  {
   "cell_type": "markdown",
   "id": "c239429b",
   "metadata": {},
   "source": [
    "## Text Analysis"
   ]
  },
  {
   "cell_type": "code",
   "execution_count": 37,
   "id": "7005370a",
   "metadata": {},
   "outputs": [],
   "source": [
    "def processText(text):\n",
    "    text = text.str.replace(\"(<br/>)\", \"\")\n",
    "    text = text.str.replace('(<a).*(>).*(</a>)', '')\n",
    "    text = text.str.replace('(&amp)', '')\n",
    "    text = text.str.replace('(&gt)', '')\n",
    "    text = text.str.replace('(&lt)', '')\n",
    "    text = text.str.replace('(\\xa0)', ' ')\n",
    "    return text"
   ]
  },
  {
   "cell_type": "code",
   "execution_count": 38,
   "id": "de62b9f1",
   "metadata": {},
   "outputs": [
    {
     "name": "stderr",
     "output_type": "stream",
     "text": [
      "<ipython-input-37-c6ebaa710e07>:2: FutureWarning: The default value of regex will change from True to False in a future version.\n",
      "  text = text.str.replace(\"(<br/>)\", \"\")\n",
      "<ipython-input-37-c6ebaa710e07>:3: FutureWarning: The default value of regex will change from True to False in a future version.\n",
      "  text = text.str.replace('(<a).*(>).*(</a>)', '')\n",
      "<ipython-input-37-c6ebaa710e07>:4: FutureWarning: The default value of regex will change from True to False in a future version.\n",
      "  text = text.str.replace('(&amp)', '')\n",
      "<ipython-input-37-c6ebaa710e07>:5: FutureWarning: The default value of regex will change from True to False in a future version.\n",
      "  text = text.str.replace('(&gt)', '')\n",
      "<ipython-input-37-c6ebaa710e07>:6: FutureWarning: The default value of regex will change from True to False in a future version.\n",
      "  text = text.str.replace('(&lt)', '')\n",
      "<ipython-input-37-c6ebaa710e07>:7: FutureWarning: The default value of regex will change from True to False in a future version.\n",
      "  text = text.str.replace('(\\xa0)', ' ')\n"
     ]
    }
   ],
   "source": [
    "df['content'] = processText(df['content'])"
   ]
  },
  {
   "cell_type": "code",
   "execution_count": 43,
   "id": "6d634ce8",
   "metadata": {},
   "outputs": [],
   "source": [
    "df['polarity'] = df['content'].map(lambda txt: TextBlob(txt).sentiment.polarity)"
   ]
  },
  {
   "cell_type": "code",
   "execution_count": 45,
   "id": "bfce62c9",
   "metadata": {},
   "outputs": [],
   "source": [
    "df['reviewLen'] = df['content'].astype(str).apply(len)\n",
    "df['wordCount'] = df['content'].apply(lambda x: len(str(x).split()))"
   ]
  },
  {
   "cell_type": "code",
   "execution_count": 47,
   "id": "782108e8",
   "metadata": {},
   "outputs": [
    {
     "data": {
      "text/html": [
       "<div>\n",
       "<style scoped>\n",
       "    .dataframe tbody tr th:only-of-type {\n",
       "        vertical-align: middle;\n",
       "    }\n",
       "\n",
       "    .dataframe tbody tr th {\n",
       "        vertical-align: top;\n",
       "    }\n",
       "\n",
       "    .dataframe thead th {\n",
       "        text-align: right;\n",
       "    }\n",
       "</style>\n",
       "<table border=\"1\" class=\"dataframe\">\n",
       "  <thead>\n",
       "    <tr style=\"text-align: right;\">\n",
       "      <th></th>\n",
       "      <th>id</th>\n",
       "      <th>app</th>\n",
       "      <th>content</th>\n",
       "      <th>score</th>\n",
       "      <th>thumbsUpCount</th>\n",
       "      <th>reviewCreatedVersion</th>\n",
       "      <th>at</th>\n",
       "      <th>polarity</th>\n",
       "      <th>reviewLen</th>\n",
       "      <th>wordCount</th>\n",
       "    </tr>\n",
       "  </thead>\n",
       "  <tbody>\n",
       "    <tr>\n",
       "      <th>0</th>\n",
       "      <td>1</td>\n",
       "      <td>B</td>\n",
       "      <td>Why games? Can't we just do it. If you just go...</td>\n",
       "      <td>1</td>\n",
       "      <td>16</td>\n",
       "      <td>NaN</td>\n",
       "      <td>2022-12-11 01:55:12</td>\n",
       "      <td>-1.000000</td>\n",
       "      <td>131</td>\n",
       "      <td>26</td>\n",
       "    </tr>\n",
       "    <tr>\n",
       "      <th>1</th>\n",
       "      <td>2</td>\n",
       "      <td>B</td>\n",
       "      <td>There is bug in security code. I cannot just s...</td>\n",
       "      <td>1</td>\n",
       "      <td>0</td>\n",
       "      <td>5.298.0</td>\n",
       "      <td>2022-12-11 01:48:17</td>\n",
       "      <td>-0.250000</td>\n",
       "      <td>86</td>\n",
       "      <td>19</td>\n",
       "    </tr>\n",
       "    <tr>\n",
       "      <th>2</th>\n",
       "      <td>3</td>\n",
       "      <td>B</td>\n",
       "      <td>The app is good and user-friendly, but there i...</td>\n",
       "      <td>3</td>\n",
       "      <td>0</td>\n",
       "      <td>5.298.0</td>\n",
       "      <td>2022-12-11 01:15:03</td>\n",
       "      <td>0.235863</td>\n",
       "      <td>420</td>\n",
       "      <td>78</td>\n",
       "    </tr>\n",
       "    <tr>\n",
       "      <th>3</th>\n",
       "      <td>4</td>\n",
       "      <td>B</td>\n",
       "      <td>-2 stars. Screw these moneygrabbing bastards</td>\n",
       "      <td>1</td>\n",
       "      <td>2</td>\n",
       "      <td>5.284.0</td>\n",
       "      <td>2022-12-11 00:51:53</td>\n",
       "      <td>0.000000</td>\n",
       "      <td>44</td>\n",
       "      <td>6</td>\n",
       "    </tr>\n",
       "    <tr>\n",
       "      <th>4</th>\n",
       "      <td>5</td>\n",
       "      <td>B</td>\n",
       "      <td>Very small stupid things that make it annoying...</td>\n",
       "      <td>2</td>\n",
       "      <td>0</td>\n",
       "      <td>5.298.0</td>\n",
       "      <td>2022-12-11 00:21:16</td>\n",
       "      <td>-0.390000</td>\n",
       "      <td>206</td>\n",
       "      <td>36</td>\n",
       "    </tr>\n",
       "  </tbody>\n",
       "</table>\n",
       "</div>"
      ],
      "text/plain": [
       "   id app                                            content  score  \\\n",
       "0   1   B  Why games? Can't we just do it. If you just go...      1   \n",
       "1   2   B  There is bug in security code. I cannot just s...      1   \n",
       "2   3   B  The app is good and user-friendly, but there i...      3   \n",
       "3   4   B       -2 stars. Screw these moneygrabbing bastards      1   \n",
       "4   5   B  Very small stupid things that make it annoying...      2   \n",
       "\n",
       "   thumbsUpCount reviewCreatedVersion                   at  polarity  \\\n",
       "0             16                  NaN  2022-12-11 01:55:12 -1.000000   \n",
       "1              0              5.298.0  2022-12-11 01:48:17 -0.250000   \n",
       "2              0              5.298.0  2022-12-11 01:15:03  0.235863   \n",
       "3              2              5.284.0  2022-12-11 00:51:53  0.000000   \n",
       "4              0              5.298.0  2022-12-11 00:21:16 -0.390000   \n",
       "\n",
       "   reviewLen  wordCount  \n",
       "0        131         26  \n",
       "1         86         19  \n",
       "2        420         78  \n",
       "3         44          6  \n",
       "4        206         36  "
      ]
     },
     "execution_count": 47,
     "metadata": {},
     "output_type": "execute_result"
    }
   ],
   "source": [
    "df.head()"
   ]
  },
  {
   "cell_type": "code",
   "execution_count": 114,
   "id": "3400362f",
   "metadata": {},
   "outputs": [],
   "source": [
    "df_bum2 = df.loc[df.app == 'B']\n",
    "df_hin2 = df.loc[df.app == 'H']\n",
    "df_tin2 = df.loc[df.app == 'T']"
   ]
  },
  {
   "cell_type": "markdown",
   "id": "ff5f4f4b",
   "metadata": {},
   "source": [
    "### List out reviews based on polarity scores"
   ]
  },
  {
   "cell_type": "code",
   "execution_count": 115,
   "id": "25ed217f",
   "metadata": {},
   "outputs": [],
   "source": [
    "def listPolarity(df, pol, col_name, n):\n",
    "    col = df.loc[df.polarity == pol, [col_name]].sample(n).values\n",
    "    for c in col:\n",
    "        print(c[0])"
   ]
  },
  {
   "cell_type": "markdown",
   "id": "d352cc16",
   "metadata": {},
   "source": [
    "#### Bumble"
   ]
  },
  {
   "cell_type": "code",
   "execution_count": 154,
   "id": "c56206c0",
   "metadata": {},
   "outputs": [
    {
     "name": "stdout",
     "output_type": "stream",
     "text": [
      "Bumble reviews with the highest positive sentiment polarity: \n",
      "-----------------------------------------------------\n",
      "best app ever\n",
      "BEST APP TO EXPLORE AND FIND BUSINESS CONNECTION\n",
      "It is awesome\n",
      "awesome app!\n",
      "Awesome 👍\n",
      "\n",
      "Bumble reviews with most neutral sentiment polarity: \n",
      "-----------------------------------------------\n",
      "I just want to delete my account help me out\n",
      "DO NOT PAY FOR THE APP. I REPEAT Do NOT\n",
      "you're doing a lot right<3 so YAY! this needs to improve<3\n",
      "$BMBL to the moon!\n",
      "Third class app.\n",
      "\n",
      "Bumble reviews with the highest negative sentiment polarity: \n",
      "------------------------------------------------------\n",
      "no one reply worst App don't download.\n",
      "Awful\n",
      "Bhikhari.APK. Laggy, Bully, Boring, Time wasting, Wanted money, Lol😁. If you get money than you can do anything.\n",
      "Terrible.\n",
      "Please fix the send button, sometimes if I want to press the send button, what comes out is the gallery of my cellphone !!! please stupid, fix it soon !!\n"
     ]
    }
   ],
   "source": [
    "print(\"Bumble reviews with the highest positive sentiment polarity: \")\n",
    "print(\"-----------------------------------------------------\")\n",
    "listPolarity(df_bum2, 1, 'content', 5)\n",
    "print(\"\")\n",
    "print(\"Bumble reviews with most neutral sentiment polarity: \")\n",
    "print(\"-----------------------------------------------\")\n",
    "listPolarity(df_bum2, 0, 'content', 5)\n",
    "print(\"\")\n",
    "print(\"Bumble reviews with the highest negative sentiment polarity: \")\n",
    "print(\"------------------------------------------------------\")\n",
    "listPolarity(df_bum2, -1, 'content', 5)"
   ]
  },
  {
   "cell_type": "markdown",
   "id": "56b2c419",
   "metadata": {},
   "source": [
    "#### Hinge"
   ]
  },
  {
   "cell_type": "code",
   "execution_count": 155,
   "id": "8c17d339",
   "metadata": {},
   "outputs": [
    {
     "name": "stdout",
     "output_type": "stream",
     "text": [
      "Hinge reviews with the highest positive sentiment polarity: \n",
      "-----------------------------------------------------\n",
      "Great!\n",
      "I think it is the best dating app\n",
      "Perfect app\n",
      "Great!!!\n",
      "Excellent\n",
      "\n",
      "Hinge reviews with most neutral sentiment polarity: \n",
      "-----------------------------------------------\n",
      "we shall see b\n",
      "You can send messages to people you're attracted to.\n",
      "Phone number changed and found out the phone number was banned and idk the name of the account.\n",
      "So many fake profiles and people who don't reply.\n",
      "It's alright 🤷‍♂️\n",
      "\n",
      "Hinge reviews with the highest negative sentiment polarity: \n",
      "------------------------------------------------------\n",
      "Awful, doesnt even work\n",
      "Disgusting 🤮. Banned me for no reason.\n",
      "the messaging is so horrible\n",
      "Horrible\n",
      "Terrible app, the customer support team is if no use. I wouldn't pay for this service\n"
     ]
    }
   ],
   "source": [
    "print(\"Hinge reviews with the highest positive sentiment polarity: \")\n",
    "print(\"-----------------------------------------------------\")\n",
    "listPolarity(df_hin2, 1, 'content', 5)\n",
    "print(\"\")\n",
    "print(\"Hinge reviews with most neutral sentiment polarity: \")\n",
    "print(\"-----------------------------------------------\")\n",
    "listPolarity(df_hin2, 0, 'content', 5)\n",
    "print(\"\")\n",
    "print(\"Hinge reviews with the highest negative sentiment polarity: \")\n",
    "print(\"------------------------------------------------------\")\n",
    "listPolarity(df_hin2, -1, 'content', 5)"
   ]
  },
  {
   "cell_type": "markdown",
   "id": "68a38bf3",
   "metadata": {},
   "source": [
    "#### Tinder"
   ]
  },
  {
   "cell_type": "code",
   "execution_count": 156,
   "id": "4856db6b",
   "metadata": {},
   "outputs": [
    {
     "name": "stdout",
     "output_type": "stream",
     "text": [
      "Tinder reviews with the highest positive sentiment polarity: \n",
      "-----------------------------------------------------\n",
      "Excellent app\n",
      "awesome\n",
      "Awesome\n",
      "Great!\n",
      "Excellent\n",
      "\n",
      "Tinder reviews with most neutral sentiment polarity: \n",
      "-----------------------------------------------\n",
      "It actually works\n",
      "Still waiting\n",
      "Phoenix wright approved\n",
      "Every time I try to open my messages the app crashes.\n",
      "Man: 0 like per hour Woman: 1 000 like per hour\n",
      "\n",
      "Tinder reviews with the highest negative sentiment polarity: \n",
      "------------------------------------------------------\n",
      "worst application ..\n",
      "Terrible\n",
      "Worst\n",
      "Trash. Quality of people on this app is awful.\n",
      "The worst\n"
     ]
    }
   ],
   "source": [
    "print(\"Tinder reviews with the highest positive sentiment polarity: \")\n",
    "print(\"-----------------------------------------------------\")\n",
    "listPolarity(df_tin2, 1, 'content', 5)\n",
    "print(\"\")\n",
    "print(\"Tinder reviews with most neutral sentiment polarity: \")\n",
    "print(\"-----------------------------------------------\")\n",
    "listPolarity(df_tin2, 0, 'content', 5)\n",
    "print(\"\")\n",
    "print(\"Tinder reviews with the highest negative sentiment polarity: \")\n",
    "print(\"------------------------------------------------------\")\n",
    "listPolarity(df_tin2, -1, 'content', 5)"
   ]
  },
  {
   "cell_type": "markdown",
   "id": "714400d3",
   "metadata": {},
   "source": [
    "#### Overall Apps"
   ]
  },
  {
   "cell_type": "code",
   "execution_count": 136,
   "id": "bd7b2936",
   "metadata": {},
   "outputs": [
    {
     "name": "stdout",
     "output_type": "stream",
     "text": [
      "Overall reviews with the highest positive sentiment polarity: \n",
      "-----------------------------------------------------\n",
      "Awesome\n",
      "Perfect\n",
      "Great app!\n",
      "This is the best thing happend to me\n",
      "The best dating app ever made....\n",
      "\n",
      "Overall reviews with most neutral sentiment polarity: \n",
      "-----------------------------------------------\n",
      "Kiadta\n",
      "Login problem\n",
      "Scrumptious App\n",
      "Everything in tinder u must buy\n",
      "💩💩💩\n",
      "\n",
      "Overall reviews with the highest negative sentiment polarity: \n",
      "------------------------------------------------------\n",
      "Worst app. No match found till hundred kms\n",
      "Terrible photo selection system.\n",
      "Worst\n",
      "Totally disgusting\n",
      "The app is terrible! Freezes all the time and never updates\n"
     ]
    }
   ],
   "source": [
    "print(\"Overall reviews with the highest positive sentiment polarity: \")\n",
    "print(\"-----------------------------------------------------\")\n",
    "listPolarity(df, 1, 'content', 5)\n",
    "print(\"\")\n",
    "print(\"Overall reviews with most neutral sentiment polarity: \")\n",
    "print(\"-----------------------------------------------\")\n",
    "listPolarity(df, 0, 'content', 5)\n",
    "print(\"\")\n",
    "print(\"Overall reviews with the highest negative sentiment polarity: \")\n",
    "print(\"------------------------------------------------------\")\n",
    "listPolarity(df, -1, 'content', 5)"
   ]
  },
  {
   "cell_type": "markdown",
   "id": "aa0676f5",
   "metadata": {},
   "source": [
    "## Data Visualization"
   ]
  },
  {
   "cell_type": "code",
   "execution_count": 89,
   "id": "d6f8ae01",
   "metadata": {},
   "outputs": [
    {
     "data": {
      "image/png": "[encoded data removed]",
      "text/plain": [
       "<Figure size 720x504 with 1 Axes>"
      ]
     },
     "metadata": {
      "needs_background": "light"
     },
     "output_type": "display_data"
    }
   ],
   "source": [
    "app = np.array(df['app'])\n",
    "app, counts_app = np.unique(app, return_counts = True)\n",
    "labels = ['Bumble', 'Hinge', 'Tinder']\n",
    "\n",
    "fig = plt.figure(figsize =(10, 7))\n",
    "ax = fig.add_axes([0, 0, 1, 1])\n",
    "bar = plt.bar(x = app, height = counts_app, color = 'royalblue', edgecolor = 'black')\n",
    "bar[0].set_color('goldenrod')\n",
    "bar[1].set_color('teal')\n",
    "bar[2].set_color('coral')\n",
    "plt.title(\"App Distributions\", weight = \"bold\", fontsize = 15)\n",
    "plt.xlabel(\"App\", weight = \"bold\", fontsize = 12)\n",
    "plt.xticks(app, labels)\n",
    "plt.ylabel(\"Count\", weight = \"bold\", fontsize = 12)\n",
    "plt.show()"
   ]
  },
  {
   "cell_type": "code",
   "execution_count": 85,
   "id": "4f994fe3",
   "metadata": {},
   "outputs": [
    {
     "data": {
      "image/png": "[encoded data removed]",
      "text/plain": [
       "<Figure size 720x504 with 1 Axes>"
      ]
     },
     "metadata": {
      "needs_background": "light"
     },
     "output_type": "display_data"
    }
   ],
   "source": [
    "score_bum = np.array(df_bum2['score'])\n",
    "score_bum, counts_bum = np.unique(score_bum, return_counts = True)\n",
    "\n",
    "fig = plt.figure(figsize =(10, 7))\n",
    "ax = fig.add_axes([0, 0, 1, 1])\n",
    "plt.bar(x = score_bum, height = counts_bum, color = 'goldenrod', edgecolor = 'black')\n",
    "plt.title(\"Bargraph of Bumble Review Score\", weight = \"bold\", fontsize = 15)\n",
    "plt.xlabel(\"Score\", weight = \"bold\", fontsize = 12)\n",
    "plt.ylabel(\"Count\", weight = \"bold\", fontsize = 12)\n",
    "plt.show()"
   ]
  },
  {
   "cell_type": "code",
   "execution_count": 31,
   "id": "908bc071",
   "metadata": {},
   "outputs": [
    {
     "data": {
      "image/png": "[encoded data removed]",
      "text/plain": [
       "<Figure size 720x504 with 1 Axes>"
      ]
     },
     "metadata": {
      "needs_background": "light"
     },
     "output_type": "display_data"
    }
   ],
   "source": [
    "score_hin = np.array(df_hin2['score'])\n",
    "score_hin, counts_hin = np.unique(score_hin, return_counts = True)\n",
    "\n",
    "fig = plt.figure(figsize =(10, 7))\n",
    "ax = fig.add_axes([0, 0, 1, 1])\n",
    "plt.bar(x = score_hin, height = counts_hin, color = 'teal', edgecolor = 'black')\n",
    "plt.title(\"Bargraph of Hinge Review Score\", weight = \"bold\", fontsize = 15)\n",
    "plt.xlabel(\"Score\", weight = \"bold\", fontsize = 12)\n",
    "plt.ylabel(\"Count\", weight = \"bold\", fontsize = 12)\n",
    "plt.show()"
   ]
  },
  {
   "cell_type": "code",
   "execution_count": 32,
   "id": "21cf78e3",
   "metadata": {},
   "outputs": [
    {
     "data": {
      "image/png": "[encoded data removed]",
      "text/plain": [
       "<Figure size 720x504 with 1 Axes>"
      ]
     },
     "metadata": {
      "needs_background": "light"
     },
     "output_type": "display_data"
    }
   ],
   "source": [
    "score_tin = np.array(df_tin2['score'])\n",
    "score_tin, counts_tin = np.unique(score_tin, return_counts = True)\n",
    "\n",
    "fig = plt.figure(figsize =(10, 7))\n",
    "ax = fig.add_axes([0, 0, 1, 1])\n",
    "plt.bar(x = score_tin, height = counts_tin, color = 'coral', edgecolor = 'black')\n",
    "plt.title(\"Bargraph of Tinder Review Score\", weight = \"bold\", fontsize = 15)\n",
    "plt.xlabel(\"Score\", weight = \"bold\", fontsize = 12)\n",
    "plt.ylabel(\"Count\", weight = \"bold\", fontsize = 12)\n",
    "plt.show()"
   ]
  },
  {
   "cell_type": "code",
   "execution_count": 33,
   "id": "7469a7a1",
   "metadata": {},
   "outputs": [
    {
     "data": {
      "image/png": "[encoded data removed]",
      "text/plain": [
       "<Figure size 720x504 with 1 Axes>"
      ]
     },
     "metadata": {
      "needs_background": "light"
     },
     "output_type": "display_data"
    }
   ],
   "source": [
    "width = 0.30  # the width of the bars\n",
    "fig, ax = plt.subplots(figsize=(10, 7))\n",
    "rects1 = ax.bar(score_bum - width, counts_bum, width, color = 'goldenrod', edgecolor = 'black', label='Bumble')\n",
    "rects2 = ax.bar(score_hin, counts_hin, width, color = 'teal', edgecolor = 'black', label='Hinge')\n",
    "rects2 = ax.bar(score_tin + width, counts_tin, width,  color = 'coral', edgecolor = 'black',label='Tinder')\n",
    "\n",
    "# Add some text for labels, title and custom x-axis tick labels, etc.\n",
    "ax.set_xlabel('Scores', weight = 'bold', fontsize = 12)\n",
    "ax.set_ylabel('Count', weight = 'bold', fontsize = 12)\n",
    "ax.set_title('Review Scores by Apps', weight = 'bold', fontsize = 15)\n",
    "ax.legend()\n",
    "fig.tight_layout()\n",
    "plt.show()"
   ]
  },
  {
   "cell_type": "code",
   "execution_count": 78,
   "id": "8b64c50d",
   "metadata": {},
   "outputs": [
    {
     "data": {
      "image/png": "[encoded data removed]",
      "text/plain": [
       "<Figure size 720x504 with 1 Axes>"
      ]
     },
     "metadata": {
      "needs_background": "light"
     },
     "output_type": "display_data"
    }
   ],
   "source": [
    "score_pol = np.array(df['polarity'])\n",
    "\n",
    "fig = plt.figure(figsize =(10, 7))\n",
    "ax = fig.add_axes([0, 0, 1, 1])\n",
    "plt.hist(x = score_pol, color = 'royalblue', edgecolor = 'black', bins = 30)\n",
    "plt.title(\"Polarity Score Distribution of Review Content\", weight = \"bold\", fontsize = 15)\n",
    "plt.xlabel(\"Polarity Score\", weight = \"bold\", fontsize = 12)\n",
    "plt.ylabel(\"Count\", weight = \"bold\", fontsize = 12)\n",
    "plt.show()"
   ]
  },
  {
   "cell_type": "code",
   "execution_count": 72,
   "id": "557b846e",
   "metadata": {},
   "outputs": [
    {
     "data": {
      "image/png": "[encoded data removed]",
      "text/plain": [
       "<Figure size 720x504 with 1 Axes>"
      ]
     },
     "metadata": {
      "needs_background": "light"
     },
     "output_type": "display_data"
    }
   ],
   "source": [
    "review_len = np.array(df['reviewLen'])\n",
    "\n",
    "fig = plt.figure(figsize =(10, 7))\n",
    "ax = fig.add_axes([0, 0, 1, 1])\n",
    "plt.hist(x = review_len, color = 'royalblue', edgecolor = 'black',  bins = 100)\n",
    "plt.title(\"Review Length Distribution\", weight = \"bold\", fontsize = 15)\n",
    "plt.xlabel(\"Review Length\", weight = \"bold\", fontsize = 12)\n",
    "plt.ylabel(\"Count\", weight = \"bold\", fontsize = 12)\n",
    "plt.show()"
   ]
  },
  {
   "cell_type": "code",
   "execution_count": 76,
   "id": "f6d8afd7",
   "metadata": {},
   "outputs": [
    {
     "data": {
      "image/png": "[encoded data removed]",
      "text/plain": [
       "<Figure size 720x504 with 1 Axes>"
      ]
     },
     "metadata": {
      "needs_background": "light"
     },
     "output_type": "display_data"
    }
   ],
   "source": [
    "word_count = np.array(df['wordCount'])\n",
    "\n",
    "fig = plt.figure(figsize =(10, 7))\n",
    "ax = fig.add_axes([0, 0, 1, 1])\n",
    "plt.hist(x = word_count, color = 'royalblue', edgecolor = 'black', bins = 50)\n",
    "plt.title(\"Word Count Distribution\", weight = \"bold\", fontsize = 15)\n",
    "plt.xlabel(\"Word Count\", weight = \"bold\", fontsize = 12)\n",
    "plt.ylabel(\"Count\", weight = \"bold\", fontsize = 12)\n",
    "plt.show()"
   ]
  },
  {
   "cell_type": "code",
   "execution_count": 95,
   "id": "55fcf540",
   "metadata": {},
   "outputs": [],
   "source": [
    "# common words after removing stop words\n",
    "def getTopWords(corpus, n = None):\n",
    "    vec = CountVectorizer(stop_words = 'english').fit(corpus)\n",
    "    bag_words = vec.transform(corpus)\n",
    "    sum_words = bag_words.sum(axis = 0)\n",
    "    words_freq = [(word, sum_words[0,idx]) for word, idx in vec.vocabulary_.items()]\n",
    "    words_freq = sorted(words_freq, key = lambda x: x[1], reverse = True)\n",
    "    return words_freq[:n]"
   ]
  },
  {
   "cell_type": "code",
   "execution_count": 146,
   "id": "3ae2ea67",
   "metadata": {},
   "outputs": [],
   "source": [
    "cmn_words = getTopWords(df['content'], 20)\n",
    "bum_cmn_words = getTopWords(df_bum2['content'], 20)\n",
    "hin_cmn_words = getTopWords(df_hin2['content'], 20)\n",
    "tin_cmn_words = getTopWords(df_tin2['content'], 20)"
   ]
  },
  {
   "cell_type": "code",
   "execution_count": 147,
   "id": "54607f59",
   "metadata": {},
   "outputs": [],
   "source": [
    "df2 = pd.DataFrame(cmn_words, columns = ['Reviews', 'Count'])\n",
    "df_bum3 = pd.DataFrame(bum_cmn_words, columns = ['Reviews', 'Count'])\n",
    "df_hin3 = pd.DataFrame(hin_cmn_words, columns = ['Reviews', 'Count'])\n",
    "df_tin3 = pd.DataFrame(tin_cmn_words, columns = ['Reviews', 'Count'])"
   ]
  },
  {
   "cell_type": "code",
   "execution_count": 153,
   "id": "d6354b8a",
   "metadata": {},
   "outputs": [
    {
     "data": {
      "image/png": "[encoded data removed]",
      "text/plain": [
       "<Figure size 720x504 with 1 Axes>"
      ]
     },
     "metadata": {
      "needs_background": "light"
     },
     "output_type": "display_data"
    }
   ],
   "source": [
    "fig = plt.figure(figsize =(10, 7))\n",
    "ax = fig.add_axes([0, 0, 1, 1])\n",
    "plt.bar(x = df2['Reviews'], height = df2['Count'], color = 'royalblue', edgecolor = 'black')\n",
    "plt.title(\"Top 20 Common Used Words in Overall App Reviews\", weight = \"bold\", fontsize = 15)\n",
    "plt.xticks(rotation = 'vertical')\n",
    "plt.ylabel(\"Count\", weight = \"bold\", fontsize = 12)\n",
    "plt.show()"
   ]
  },
  {
   "cell_type": "code",
   "execution_count": 150,
   "id": "742c3c8a",
   "metadata": {},
   "outputs": [
    {
     "data": {
      "image/png": "[encoded data removed]",
      "text/plain": [
       "<Figure size 720x504 with 1 Axes>"
      ]
     },
     "metadata": {
      "needs_background": "light"
     },
     "output_type": "display_data"
    }
   ],
   "source": [
    "fig = plt.figure(figsize =(10, 7))\n",
    "ax = fig.add_axes([0, 0, 1, 1])\n",
    "plt.bar(x = df_bum3['Reviews'], height = df_bum3['Count'], color = 'goldenrod', edgecolor = 'black')\n",
    "plt.title(\"Top 20 Common Used Words in Bumble Reviews\", weight = \"bold\", fontsize = 15)\n",
    "plt.xticks(rotation = 'vertical')\n",
    "plt.ylabel(\"Count\", weight = \"bold\", fontsize = 12)\n",
    "plt.show()"
   ]
  },
  {
   "cell_type": "code",
   "execution_count": 151,
   "id": "3efefb9a",
   "metadata": {},
   "outputs": [
    {
     "data": {
      "image/png": "[encoded data removed]",
      "text/plain": [
       "<Figure size 720x504 with 1 Axes>"
      ]
     },
     "metadata": {
      "needs_background": "light"
     },
     "output_type": "display_data"
    }
   ],
   "source": [
    "fig = plt.figure(figsize =(10, 7))\n",
    "ax = fig.add_axes([0, 0, 1, 1])\n",
    "plt.bar(x = df_hin3['Reviews'], height = df_hin3['Count'], color = 'teal', edgecolor = 'black')\n",
    "plt.title(\"Top 20 Common Used Words in Hinge Reviews\", weight = \"bold\", fontsize = 15)\n",
    "plt.xticks(rotation = 'vertical')\n",
    "plt.ylabel(\"Count\", weight = \"bold\", fontsize = 12)\n",
    "plt.show()"
   ]
  },
  {
   "cell_type": "code",
   "execution_count": 152,
   "id": "caa04874",
   "metadata": {},
   "outputs": [
    {
     "data": {
      "image/png": "[encoded data removed]",
      "text/plain": [
       "<Figure size 720x504 with 1 Axes>"
      ]
     },
     "metadata": {
      "needs_background": "light"
     },
     "output_type": "display_data"
    }
   ],
   "source": [
    "fig = plt.figure(figsize =(10, 7))\n",
    "ax = fig.add_axes([0, 0, 1, 1])\n",
    "plt.bar(x = df_tin3['Reviews'], height = df_tin3['Count'], color = 'coral', edgecolor = 'black')\n",
    "plt.title(\"Top 20 Common Used Words in Tinder Reviews\", weight = \"bold\", fontsize = 15)\n",
    "plt.xticks(rotation = 'vertical')\n",
    "plt.ylabel(\"Count\", weight = \"bold\", fontsize = 12)\n",
    "plt.show()"
   ]
  },
  {
   "cell_type": "code",
   "execution_count": null,
   "id": "05dbe06e",
   "metadata": {},
   "outputs": [],
   "source": []
  }
 ],
 "metadata": {
  "kernelspec": {
   "display_name": "Python 3",
   "language": "python",
   "name": "python3"
  },
  "language_info": {
   "codemirror_mode": {
    "name": "ipython",
    "version": 3
   },
   "file_extension": ".py",
   "mimetype": "text/x-python",
   "name": "python",
   "nbconvert_exporter": "python",
   "pygments_lexer": "ipython3",
   "version": "3.8.8"
  }
 },
 "nbformat": 4,
 "nbformat_minor": 5
}
